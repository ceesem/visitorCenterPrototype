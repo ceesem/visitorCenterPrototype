{
 "cells": [
  {
   "cell_type": "code",
   "execution_count": null,
   "metadata": {},
   "outputs": [],
   "source": [
    "from src.dash_app import generate_app\n",
    "from annotationframeworkclient import FrameworkClient\n",
    "\n",
    "client = FrameworkClient(\"minnie65_phase3_v1\")\n",
    "app = generate_app(client, app_type=\"jupyterdash\")\n",
    "\n",
    "# If you are using jupyterlab, you can also use 'jupyterlab' instead of 'inline'\n",
    "app.run_server('inline')"
   ]
  },
  {
   "cell_type": "markdown",
   "metadata": {},
   "source": [
    "#### If you need to close the server, run the following command:"
   ]
  },
  {
   "cell_type": "code",
   "execution_count": null,
   "metadata": {},
   "outputs": [],
   "source": [
    "app._terminate_server_for_port(\"localhost\", 8050)"
   ]
  }
 ],
 "metadata": {
  "kernelspec": {
   "display_name": "analysis",
   "language": "python",
   "name": "analysis"
  },
  "language_info": {
   "codemirror_mode": {
    "name": "ipython",
    "version": 3
   },
   "file_extension": ".py",
   "mimetype": "text/x-python",
   "name": "python",
   "nbconvert_exporter": "python",
   "pygments_lexer": "ipython3",
   "version": "3.8.6"
  }
 },
 "nbformat": 4,
 "nbformat_minor": 4
}
